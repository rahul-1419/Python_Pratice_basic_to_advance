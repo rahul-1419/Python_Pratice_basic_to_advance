{
 "cells": [
  {
   "cell_type": "markdown",
   "id": "15682679-7527-4963-a1b3-78160f3f577d",
   "metadata": {},
   "source": [
    "## Password valid & invalid with password having string & number with in"
   ]
  },
  {
   "cell_type": "code",
   "execution_count": 14,
   "id": "5bb9f4fa-abbd-45dd-950d-d0a0f3b30883",
   "metadata": {},
   "outputs": [],
   "source": [
    "import re\n",
    "def is_valid_password():\n",
    "    if len(password) < 8:\n",
    "        return False, \"Password Must Contain 8 letter.\"\n",
    "    \n",
    "    if not re.search(r'[a-z]',password):\n",
    "        return False, \"Password Must Contain Lowercase.\"\n",
    "    \n",
    "    if not re.search(r'[A-Z]',password):\n",
    "        return False, \"Password Must Contain uppercase.\"\n",
    "\n",
    "    if not re.search(r'\\d',password):\n",
    "        return False, \"Password Must Contain digits.\"\n",
    "\n",
    "    if not re.search(r'[!@#$%^&*(){}<>?/.,;:\\|]',password):\n",
    "        return False, \"Password Must Contain one Special Symbol.\"\n",
    "\n",
    "    return True,\"Password is vaild\""
   ]
  },
  {
   "cell_type": "code",
   "execution_count": 16,
   "id": "aa6ed595-b999-4ad7-9900-449c9928608f",
   "metadata": {},
   "outputs": [
    {
     "data": {
      "text/plain": [
       "(False, 'Password Must Contain uppercase.')"
      ]
     },
     "execution_count": 16,
     "metadata": {},
     "output_type": "execute_result"
    }
   ],
   "source": [
    "password = \"password\"\n",
    "is_valid_password()"
   ]
  },
  {
   "cell_type": "markdown",
   "id": "8c03420e-3030-4988-816b-0c3aff761fe7",
   "metadata": {},
   "source": [
    "## Without import re"
   ]
  },
  {
   "cell_type": "code",
   "execution_count": 19,
   "id": "1d4cb748-a9ff-43c9-b5cd-30f5d4c85cdb",
   "metadata": {},
   "outputs": [],
   "source": [
    "def is_valid_password():\n",
    "    if len(password)<8:\n",
    "        return False,\"Password Must Contain 8 Letters.\"\n",
    "\n",
    "    if not any(char.islower() for char in password):\n",
    "        return False, \"Password Must Contain Lowercase.\"\n",
    "\n",
    "    if not any(char.isupper() for char in password):\n",
    "        return False, \"Password Must Contain uppercase.\"\n",
    "         \n",
    "    if not any(char.isdigit() for char in password):\n",
    "        return False, \"Password Must Contain digits.\"\n",
    "\n",
    "    special_symbols= \"!@#$%^&*(){}<>?/.,;:\"\n",
    "    if not any(char in special_symbols for char in password):\n",
    "        return False, \"Password Must Contain one Special Symbol.\"\n",
    "\n",
    "    return True,\"Password is vaild\""
   ]
  },
  {
   "cell_type": "code",
   "execution_count": 21,
   "id": "d33f8870-cd35-49cc-88b5-7be7fa7f8226",
   "metadata": {},
   "outputs": [
    {
     "data": {
      "text/plain": [
       "(False, 'Password Must Contain uppercase.')"
      ]
     },
     "execution_count": 21,
     "metadata": {},
     "output_type": "execute_result"
    }
   ],
   "source": [
    "password = \"password\"\n",
    "is_valid_password()"
   ]
  },
  {
   "cell_type": "code",
   "execution_count": null,
   "id": "9238869d-0aa1-4f99-82e3-891e821abca3",
   "metadata": {},
   "outputs": [],
   "source": []
  }
 ],
 "metadata": {
  "kernelspec": {
   "display_name": "Python 3 (ipykernel)",
   "language": "python",
   "name": "python3"
  },
  "language_info": {
   "codemirror_mode": {
    "name": "ipython",
    "version": 3
   },
   "file_extension": ".py",
   "mimetype": "text/x-python",
   "name": "python",
   "nbconvert_exporter": "python",
   "pygments_lexer": "ipython3",
   "version": "3.12.4"
  }
 },
 "nbformat": 4,
 "nbformat_minor": 5
}
